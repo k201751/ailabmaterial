{
  "nbformat": 4,
  "nbformat_minor": 0,
  "metadata": {
    "colab": {
      "provenance": []
    },
    "kernelspec": {
      "name": "python3",
      "display_name": "Python 3"
    },
    "language_info": {
      "name": "python"
    }
  },
  "cells": [
    {
      "cell_type": "markdown",
      "source": [
        "Task1"
      ],
      "metadata": {
        "id": "sezTqGP7wG8B"
      }
    },
    {
      "cell_type": "code",
      "execution_count": 1,
      "metadata": {
        "colab": {
          "base_uri": "https://localhost:8080/"
        },
        "id": "9HORN2vOsPvJ",
        "outputId": "46eb2437-b81a-4700-a13a-38f4cdec958a"
      },
      "outputs": [
        {
          "output_type": "stream",
          "name": "stdout",
          "text": [
            "\n",
            "Task # 3\n",
            "\n",
            "Probability of two boys:  37.5 %\n"
          ]
        }
      ],
      "source": [
        "\n",
        "ss= [          ['B', 'B', 'B', 'B'],\n",
        "               ['B', 'B', 'B', 'G'],\n",
        "               ['B', 'B', 'G', 'B'],\n",
        "               ['B', 'G', 'B', 'B'],\n",
        "               ['G', 'B', 'B', 'B'],\n",
        "               ['G', 'G', 'B', 'B'],\n",
        "               ['G', 'B', 'B', 'G'],\n",
        "               ['B', 'B', 'G', 'G'],\n",
        "               ['B', 'G', 'B', 'G'],\n",
        "               ['G', 'B', 'G', 'B'],\n",
        "               ['B', 'G', 'G', 'B'],\n",
        "               ['B', 'G', 'G', 'G'],\n",
        "               ['G', 'G', 'G', 'B'],\n",
        "               ['G', 'B', 'G', 'G'],\n",
        "               ['G', 'G', 'B', 'G'],\n",
        "               ['G', 'G', 'G', 'G']]\n",
        "\n",
        "def calculate():\n",
        "    count = 0\n",
        "    for i in range(16):\n",
        "        count1 = 0\n",
        "        for j in range (4):\n",
        "            if ss[i][j]=='B':\n",
        "                count1=count1+1\n",
        "        if count1==2:\n",
        "            count=count+1\n",
        "\n",
        "    print(\"Probability of two boys: \", count/16*100 , '%')\n",
        "calculate()"
      ]
    },
    {
      "cell_type": "markdown",
      "source": [
        "Task2"
      ],
      "metadata": {
        "id": "9003NCcpwJuu"
      }
    },
    {
      "cell_type": "code",
      "source": [
        "def probability_less_than_4():\n",
        "    # Probabilities of rolling each number on the die\n",
        "    probabilities = [1/9, 2/9, 1/9, 2/9, 1/9, 2/9]  # Odd numbers: 1, 3, 5 | Even numbers: 2, 4, 6\n",
        "\n",
        "    # Probabilities of rolling numbers less than 4 (i.e., 1, 2, 3)\n",
        "    probability_E = sum(probabilities[:3])\n",
        "\n",
        "    return probability_E\n",
        "\n",
        "probability_E = probability_less_than_4()\n",
        "\n",
        "print(\"Probability of rolling a number less than 4:\", probability_E)\n"
      ],
      "metadata": {
        "colab": {
          "base_uri": "https://localhost:8080/"
        },
        "id": "nrv7lEtzwLFz",
        "outputId": "9064cee2-d30f-4d60-f6e7-d9c3acaf2626"
      },
      "execution_count": 2,
      "outputs": [
        {
          "output_type": "stream",
          "name": "stdout",
          "text": [
            "Probability of rolling a number less than 4: 0.4444444444444444\n"
          ]
        }
      ]
    },
    {
      "cell_type": "markdown",
      "source": [
        "Task3"
      ],
      "metadata": {
        "id": "NGWwJiZTwRnH"
      }
    },
    {
      "cell_type": "code",
      "source": [
        "def probability_red_given_blue(red_marbles, blue_marbles):\n",
        "    # Total number of marbles\n",
        "    total_marbles = red_marbles + blue_marbles\n",
        "\n",
        "    # Probability of drawing a red and blue marble\n",
        "    probability_red_and_blue = red_marbles / total_marbles\n",
        "\n",
        "    # Probability of drawing a blue marble\n",
        "    probability_blue = blue_marbles / total_marbles\n",
        "\n",
        "    # Probability of drawing a red marble given that it is blue\n",
        "    probability_red_given_blue = probability_red_and_blue / probability_blue\n",
        "\n",
        "    return probability_red_given_blue\n",
        "\n",
        "red_marbles = 10\n",
        "blue_marbles = 20\n",
        "\n",
        "probability = probability_red_given_blue(red_marbles, blue_marbles)\n",
        "\n",
        "print(\"Probability of drawing a red marble given that it is blue:\", probability)"
      ],
      "metadata": {
        "colab": {
          "base_uri": "https://localhost:8080/"
        },
        "id": "F5X1ZQGxwTLj",
        "outputId": "6def9375-535f-4a6e-8ebf-e9c651691b20"
      },
      "execution_count": 3,
      "outputs": [
        {
          "output_type": "stream",
          "name": "stdout",
          "text": [
            "Probability of drawing a red marble given that it is blue: 0.5\n"
          ]
        }
      ]
    },
    {
      "cell_type": "markdown",
      "source": [
        "Task4"
      ],
      "metadata": {
        "id": "Pa8xSw3qwV_L"
      }
    },
    {
      "cell_type": "code",
      "source": [
        "!pip install hmmlearn"
      ],
      "metadata": {
        "colab": {
          "base_uri": "https://localhost:8080/"
        },
        "id": "MQn_L7pawoPI",
        "outputId": "297d2b94-9613-483c-d9c3-c922e614f9d4"
      },
      "execution_count": 5,
      "outputs": [
        {
          "output_type": "stream",
          "name": "stdout",
          "text": [
            "Collecting hmmlearn\n",
            "  Downloading hmmlearn-0.3.2-cp310-cp310-manylinux_2_17_x86_64.manylinux2014_x86_64.whl (161 kB)\n",
            "\u001b[2K     \u001b[90m━━━━━━━━━━━━━━━━━━━━━━━━━━━━━━━━━━━━━━━━\u001b[0m \u001b[32m161.1/161.1 kB\u001b[0m \u001b[31m3.1 MB/s\u001b[0m eta \u001b[36m0:00:00\u001b[0m\n",
            "\u001b[?25hRequirement already satisfied: numpy>=1.10 in /usr/local/lib/python3.10/dist-packages (from hmmlearn) (1.25.2)\n",
            "Requirement already satisfied: scikit-learn!=0.22.0,>=0.16 in /usr/local/lib/python3.10/dist-packages (from hmmlearn) (1.2.2)\n",
            "Requirement already satisfied: scipy>=0.19 in /usr/local/lib/python3.10/dist-packages (from hmmlearn) (1.11.4)\n",
            "Requirement already satisfied: joblib>=1.1.1 in /usr/local/lib/python3.10/dist-packages (from scikit-learn!=0.22.0,>=0.16->hmmlearn) (1.4.0)\n",
            "Requirement already satisfied: threadpoolctl>=2.0.0 in /usr/local/lib/python3.10/dist-packages (from scikit-learn!=0.22.0,>=0.16->hmmlearn) (3.4.0)\n",
            "Installing collected packages: hmmlearn\n",
            "Successfully installed hmmlearn-0.3.2\n"
          ]
        }
      ]
    },
    {
      "cell_type": "code",
      "source": [
        "from hmmlearn import hmm\n",
        "\n",
        "# Define the transition matrix A\n",
        "# A[i, j] represents the probability of transitioning from state i to state j\n",
        "# Here, A[0, 0] and A[1, 1] represent the probabilities of staying in the same state\n",
        "# A[0, 1] and A[1, 0] represent the probabilities of transitioning between states\n",
        "transition_matrix = [[0.7, 0.3],  # Transition probabilities for going from healthy to sick and sick to healthy\n",
        "                     [0.4, 0.6]]  # Transition probabilities for staying sick or staying healthy\n",
        "\n",
        "# Define the emission probabilities matrix B\n",
        "# B[i, j] represents the probability of observing observation j given state i\n",
        "# Here, B[0, 0] and B[1, 0] represent the probabilities of observing no cough in healthy and sick states\n",
        "# B[0, 1] and B[1, 1] represent the probabilities of observing cough in healthy and sick states\n",
        "emission_matrix = [[0.9, 0.1],  # Emission probabilities for observing no cough and cough in healthy state\n",
        "                   [0.3, 0.7]]  # Emission probabilities for observing no cough and cough in sick state\n",
        "\n",
        "# Define the initial state distribution\n",
        "# pi[i] represents the probability of starting in state i\n",
        "initial_state_distribution = [0.6, 0.4]  # Starting probabilities for healthy and sick states\n",
        "\n",
        "# Create the HMM model\n",
        "model = hmm.MultinomialHMM(n_components=2)  # 2 states: healthy and sick\n",
        "\n",
        "# Set the parameters of the HMM model\n",
        "model.startprob_ = initial_state_distribution\n",
        "model.transmat_ = transition_matrix\n",
        "model.emissionprob_ = emission_matrix\n",
        "\n",
        "# Define the observations (0 for no cough, 1 for cough)\n",
        "observations = [[0], [1], [1], [0], [1]]\n",
        "\n",
        "# Fit the model to the observations\n",
        "model.fit(observations)\n",
        "\n",
        "# Predict the most likely sequence of hidden states given the observations\n",
        "predicted_states = model.predict(observations)\n",
        "\n",
        "# Print the predicted sequence of hidden states\n",
        "for state in predicted_states:\n",
        "    if state == 0:\n",
        "        print(\"Healthy\")\n",
        "    else:\n",
        "        print(\"Sick\")\n"
      ],
      "metadata": {
        "colab": {
          "base_uri": "https://localhost:8080/"
        },
        "id": "X_n5RL_twXe7",
        "outputId": "5d23fba2-7ea5-43d7-cd5a-829d7b0e1cda"
      },
      "execution_count": 7,
      "outputs": [
        {
          "output_type": "stream",
          "name": "stderr",
          "text": [
            "WARNING:hmmlearn.hmm:MultinomialHMM has undergone major changes. The previous version was implementing a CategoricalHMM (a special case of MultinomialHMM). This new implementation follows the standard definition for a Multinomial distribution (e.g. as in https://en.wikipedia.org/wiki/Multinomial_distribution). See these issues for details:\n",
            "https://github.com/hmmlearn/hmmlearn/issues/335\n",
            "https://github.com/hmmlearn/hmmlearn/issues/340\n",
            "WARNING:hmmlearn.base:Even though the 'startprob_' attribute is set, it will be overwritten during initialization because 'init_params' contains 's'\n",
            "WARNING:hmmlearn.base:Even though the 'transmat_' attribute is set, it will be overwritten during initialization because 'init_params' contains 't'\n"
          ]
        },
        {
          "output_type": "stream",
          "name": "stdout",
          "text": [
            "Healthy\n",
            "Sick\n",
            "Sick\n",
            "Sick\n",
            "Sick\n"
          ]
        }
      ]
    },
    {
      "cell_type": "markdown",
      "source": [
        "Task5"
      ],
      "metadata": {
        "id": "2Z7dUJBhwi1A"
      }
    },
    {
      "cell_type": "code",
      "source": [
        "# Given probabilities\n",
        "P_D_given_P1 = 0.01\n",
        "P_D_given_P2 = 0.03\n",
        "P_D_given_P3 = 0.02\n",
        "\n",
        "P_P1 = 0.30\n",
        "P_P2 = 0.20\n",
        "P_P3 = 0.50\n",
        "\n",
        "# Calculate P(D)\n",
        "P_D = P_D_given_P1 * P_P1 + P_D_given_P2 * P_P2 + P_D_given_P3 * P_P3\n",
        "\n",
        "# Calculate posterior probabilities\n",
        "P_P1_given_D = (P_D_given_P1 * P_P1) / P_D\n",
        "P_P2_given_D = (P_D_given_P2 * P_P2) / P_D\n",
        "P_P3_given_D = (P_D_given_P3 * P_P3) / P_D\n",
        "\n",
        "# Determine which plan is most likely responsible\n",
        "most_likely_plan = max(P_P1_given_D, P_P2_given_D, P_P3_given_D)\n",
        "if most_likely_plan == P_P1_given_D:\n",
        "    print(\"Plan 1 is most likely responsible for the defect.\")\n",
        "elif most_likely_plan == P_P2_given_D:\n",
        "    print(\"Plan 2 is most likely responsible for the defect.\")\n",
        "else:\n",
        "    print(\"Plan 3 is most likely responsible for the defect.\")\n"
      ],
      "metadata": {
        "colab": {
          "base_uri": "https://localhost:8080/"
        },
        "id": "x0dBxwQ-wlJj",
        "outputId": "63c708f6-cf6b-4b2d-8840-387cf2cfdf8c"
      },
      "execution_count": 6,
      "outputs": [
        {
          "output_type": "stream",
          "name": "stdout",
          "text": [
            "Plan 3 is most likely responsible for the defect.\n"
          ]
        }
      ]
    }
  ]
}