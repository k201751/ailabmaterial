{
  "nbformat": 4,
  "nbformat_minor": 0,
  "metadata": {
    "colab": {
      "provenance": []
    },
    "kernelspec": {
      "name": "python3",
      "display_name": "Python 3"
    },
    "language_info": {
      "name": "python"
    }
  },
  "cells": [
    {
      "cell_type": "markdown",
      "source": [
        "Task1"
      ],
      "metadata": {
        "id": "BQhJi34vrLD6"
      }
    },
    {
      "cell_type": "code",
      "execution_count": null,
      "metadata": {
        "colab": {
          "base_uri": "https://localhost:8080/"
        },
        "id": "ehI9upMNrA5W",
        "outputId": "80795a5c-5eb3-411a-afb3-2d44aa652965"
      },
      "outputs": [
        {
          "output_type": "stream",
          "name": "stdout",
          "text": [
            "Probability of each plan being responsible for a defective product:\n",
            "Plan P1: 0.16\n",
            "Plan P2: 0.32\n",
            "Plan P3: 0.53\n",
            "\n",
            "The plan most likely responsible for the defective product is: Plan P3\n"
          ]
        }
      ],
      "source": [
        "defect_given_plan = {\n",
        "    'P1': 0.01,\n",
        "    'P2': 0.03,\n",
        "    'P3': 0.02\n",
        "}\n",
        "\n",
        "plan_probabilities = {\n",
        "    'P1': 0.30,\n",
        "    'P2': 0.20,\n",
        "    'P3': 0.50\n",
        "}\n",
        "\n",
        "def calculate_probability(defect_given_plan, plan_probabilities):\n",
        "    total_defect_probability = sum(defect_given_plan[plan] * plan_probabilities[plan] for plan in defect_given_plan)\n",
        "\n",
        "    probabilities = {}\n",
        "    for plan in defect_given_plan:\n",
        "        probabilities[plan] = (defect_given_plan[plan] * plan_probabilities[plan]) / total_defect_probability\n",
        "\n",
        "    return probabilities\n",
        "\n",
        "def find_responsible_plan(probabilities):\n",
        "    return max(probabilities, key=probabilities.get)\n",
        "\n",
        "# Calculate probabilities\n",
        "probabilities = calculate_probability(defect_given_plan, plan_probabilities)\n",
        "\n",
        "# Find responsible plan\n",
        "responsible_plan = find_responsible_plan(probabilities)\n",
        "\n",
        "# Output probabilities\n",
        "print(\"Probability of each plan being responsible for a defective product:\")\n",
        "for plan, probability in probabilities.items():\n",
        "    print(f\"Plan {plan}: {probability:.2f}\")\n",
        "\n",
        "# Output most likely plan\n",
        "print(f\"\\nThe plan most likely responsible for the defective product is: Plan {responsible_plan}\")\n"
      ]
    },
    {
      "cell_type": "markdown",
      "source": [
        "Task2"
      ],
      "metadata": {
        "id": "hyn4IN6srNOV"
      }
    },
    {
      "cell_type": "code",
      "source": [
        "!pip install pomegranate==v0.14.9"
      ],
      "metadata": {
        "colab": {
          "base_uri": "https://localhost:8080/"
        },
        "id": "KQ4Ewtabrkky",
        "outputId": "4691cb77-a307-41c2-9ee6-3a9d36930fab"
      },
      "execution_count": 4,
      "outputs": [
        {
          "output_type": "stream",
          "name": "stdout",
          "text": [
            "Collecting pomegranate==v0.14.9\n",
            "  Downloading pomegranate-0.14.9.tar.gz (4.7 MB)\n",
            "\u001b[2K     \u001b[90m━━━━━━━━━━━━━━━━━━━━━━━━━━━━━━━━━━━━━━━━\u001b[0m \u001b[32m4.7/4.7 MB\u001b[0m \u001b[31m13.7 MB/s\u001b[0m eta \u001b[36m0:00:00\u001b[0m\n",
            "\u001b[?25h  Installing build dependencies ... \u001b[?25l\u001b[?25hdone\n",
            "  Getting requirements to build wheel ... \u001b[?25l\u001b[?25hdone\n",
            "  Preparing metadata (pyproject.toml) ... \u001b[?25l\u001b[?25hdone\n",
            "Collecting cython<3.0.0,>=0.22.1 (from pomegranate==v0.14.9)\n",
            "  Using cached Cython-0.29.37-cp310-cp310-manylinux_2_17_x86_64.manylinux2014_x86_64.manylinux_2_24_x86_64.whl (1.9 MB)\n",
            "Requirement already satisfied: numpy>=1.20.0 in /usr/local/lib/python3.10/dist-packages (from pomegranate==v0.14.9) (1.25.2)\n",
            "Requirement already satisfied: joblib>=0.9.0b4 in /usr/local/lib/python3.10/dist-packages (from pomegranate==v0.14.9) (1.4.0)\n",
            "Requirement already satisfied: networkx>=2.4 in /usr/local/lib/python3.10/dist-packages (from pomegranate==v0.14.9) (3.3)\n",
            "Requirement already satisfied: scipy>=0.17.0 in /usr/local/lib/python3.10/dist-packages (from pomegranate==v0.14.9) (1.11.4)\n",
            "Requirement already satisfied: pyyaml in /usr/local/lib/python3.10/dist-packages (from pomegranate==v0.14.9) (6.0.1)\n",
            "Building wheels for collected packages: pomegranate\n",
            "  Building wheel for pomegranate (pyproject.toml) ... \u001b[?25l\u001b[?25hdone\n",
            "  Created wheel for pomegranate: filename=pomegranate-0.14.9-cp310-cp310-linux_x86_64.whl size=18331394 sha256=eb9851d07e30dbbf44f6832eb8c7024051d8e104f1a106e5d70b6e82a5c40370\n",
            "  Stored in directory: /root/.cache/pip/wheels/14/e7/b2/189a2d351ac4ae073cfa17ce9d56936d59af5712a18028fc31\n",
            "Successfully built pomegranate\n",
            "Installing collected packages: cython, pomegranate\n",
            "  Attempting uninstall: cython\n",
            "    Found existing installation: Cython 3.0.10\n",
            "    Uninstalling Cython-3.0.10:\n",
            "      Successfully uninstalled Cython-3.0.10\n",
            "Successfully installed cython-0.29.37 pomegranate-0.14.9\n"
          ]
        }
      ]
    },
    {
      "cell_type": "code",
      "source": [
        "from pomegranate import *\n",
        "\n",
        "# Define the distributions for each box\n",
        "box1 = DiscreteDistribution({'gold': 2, 'silver': 0})\n",
        "box2 = DiscreteDistribution({'gold': 0, 'silver': 2})\n",
        "box3 = DiscreteDistribution({'gold': 1, 'silver': 1})\n",
        "\n",
        "# Create the conditional probability tables\n",
        "cpd_box1 = ConditionalProbabilityTable(\n",
        "    [['gold', 'gold', 1.0],\n",
        "     ['gold', 'silver', 0.0],\n",
        "     ['silver', 'gold', 0.0],\n",
        "     ['silver', 'silver', 1.0]],\n",
        "    [box1])\n",
        "\n",
        "cpd_box2 = ConditionalProbabilityTable(\n",
        "    [['gold', 'gold', 1.0],\n",
        "     ['gold', 'silver', 0.0],\n",
        "     ['silver', 'gold', 0.0],\n",
        "     ['silver', 'silver', 1.0]],\n",
        "    [box2])\n",
        "\n",
        "cpd_box3 = ConditionalProbabilityTable(\n",
        "    [['gold', 'gold', 0.5],\n",
        "     ['gold', 'silver', 0.5],\n",
        "     ['silver', 'gold', 0.5],\n",
        "     ['silver', 'silver', 0.5]],\n",
        "    [box3])\n",
        "\n",
        "# Create the states for each box\n",
        "s1 = State(box1, name=\"Box 1\")\n",
        "s2 = State(box2, name=\"Box 2\")\n",
        "s3 = State(box3, name=\"Box 3\")\n",
        "\n",
        "# Create the states for each conditional probability table\n",
        "s_box1 = State(cpd_box1, name=\"Box 1 CPD\")\n",
        "s_box2 = State(cpd_box2, name=\"Box 2 CPD\")\n",
        "s_box3 = State(cpd_box3, name=\"Box 3 CPD\")\n",
        "\n",
        "# Create the Bayesian network\n",
        "model = BayesianNetwork(\"Coin Picking\")\n",
        "\n",
        "# Add the states and conditional probability tables to the model\n",
        "model.add_states(s1, s2, s3, s_box1, s_box2, s_box3)\n",
        "\n",
        "# Add transitions from the box states to the corresponding CPD states\n",
        "model.add_edge(s1, s_box1)\n",
        "model.add_edge(s2, s_box2)\n",
        "model.add_edge(s3, s_box3)\n",
        "\n",
        "# Add transitions from the CPD states to the box states\n",
        "model.add_edge(s_box1, s1)\n",
        "model.add_edge(s_box2, s2)\n",
        "model.add_edge(s_box3, s3)\n",
        "\n",
        "# Finalize the model\n",
        "model.bake()\n",
        "\n",
        "# Calculate the probabilities\n",
        "probabilities = {}\n",
        "\n",
        "# Calculate probability for Box 1\n",
        "model.predict_proba({'Box 1': 'gold'})\n",
        "probabilities['Box 1'] = model.predict_proba({'Box 1': 'gold'})[3].parameters[0]['gold']\n",
        "\n",
        "# Calculate probability for Box 2\n",
        "model.predict_proba({'Box 2': 'gold'})\n",
        "probabilities['Box 2'] = model.predict_proba({'Box 2': 'gold'})[4].parameters[0]['gold']\n",
        "\n",
        "# Calculate probability for Box 3\n",
        "model.predict_proba({'Box 3': 'gold'})\n",
        "probabilities['Box 3'] = model.predict_proba({'Box 3': 'gold'})[5].parameters[0]['gold']\n",
        "\n",
        "# Output probabilities\n",
        "for box, prob in probabilities.items():\n",
        "    print(f\"Probability that the other coin in {box} is gold given that a gold coin was picked: {prob:.2f}\")\n"
      ],
      "metadata": {
        "colab": {
          "base_uri": "https://localhost:8080/"
        },
        "id": "ekM3pa2JrQTO",
        "outputId": "d1dc1f58-5d30-4f80-a3b3-8093af48d7c9"
      },
      "execution_count": 5,
      "outputs": [
        {
          "output_type": "stream",
          "name": "stdout",
          "text": [
            "Probability that the other coin in Box 1 is gold given that a gold coin was picked: 1.00\n",
            "Probability that the other coin in Box 2 is gold given that a gold coin was picked: 0.00\n",
            "Probability that the other coin in Box 3 is gold given that a gold coin was picked: 0.50\n"
          ]
        }
      ]
    }
  ]
}