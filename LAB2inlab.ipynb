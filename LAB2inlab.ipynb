{
  "nbformat": 4,
  "nbformat_minor": 0,
  "metadata": {
    "colab": {
      "provenance": []
    },
    "kernelspec": {
      "name": "python3",
      "display_name": "Python 3"
    },
    "language_info": {
      "name": "python"
    }
  },
  "cells": [
    {
      "cell_type": "markdown",
      "source": [
        "Task 1\n",
        "Design a control mechanism of AC/Split for automatically adjust the AC setting once the room temperature is so cold. Once the temperature of room decreases to 15° then the compressor of AC switch off and when the temperature is above 20° then automatically switch on the compressor to obtain desired cool temperature.\n",
        "(Remember we dont have sensor for getting the temperature of room just ask from the user assume user as a thermostat) . This process will be continue while the AC is on."
      ],
      "metadata": {
        "id": "4_0e3VqPtMg3"
      }
    },
    {
      "cell_type": "code",
      "source": [
        "temperature = input(\"Enter temperature: \")\n",
        "if int(temperature) <= 15 :\n",
        "  print(\"Compressor off!! \")\n",
        "elif int(temperature) >= 20:\n",
        "  print(\"Compessor on!! \")\n"
      ],
      "metadata": {
        "colab": {
          "base_uri": "https://localhost:8080/"
        },
        "id": "Xc9Y1VNEtQRv",
        "outputId": "8b3d5d03-fb99-41c7-87f3-3e90e15c0905"
      },
      "execution_count": null,
      "outputs": [
        {
          "output_type": "stream",
          "name": "stdout",
          "text": [
            "Enter temperature: 24\n",
            "Compessor on!! \n"
          ]
        }
      ]
    },
    {
      "cell_type": "markdown",
      "source": [
        "Task 2\n",
        "Design a console based application for Converting different currency. You are required to ask user to choose input which currency you want to convert and then ask the amount. After that ask in which currency you want to convert. Then convert that currency into desired one... (Currency should includ Euro , Dollar, PkR, INR , and yen)"
      ],
      "metadata": {
        "id": "mDm0nHLUvO0F"
      }
    },
    {
      "cell_type": "code",
      "source": [
        "mycurr = input(\"Enter currency: \")\n",
        "amount = input(\"Enter amount: \")\n",
        "concurr = input(\"Enter currency you want to convert in: \")\n",
        "\n",
        "allcurr = {\n",
        "    \"PKR\" : \"1\",\n",
        "    \"USD\" : \"278.70\",\n",
        "    \"EURO\" : \"302.33\",\n",
        "    \"INR\" : \"3.36\",\n",
        "    \"YEN\" : \"1.85\"\n",
        "}\n",
        "\n",
        "myrate = allcurr[mycurr]\n",
        "conrate = allcurr[concurr]\n",
        "final = (float(amount)/float(conrate))*float(myrate)\n",
        "print(str(final) +\" \"+ str(concurr))\n"
      ],
      "metadata": {
        "colab": {
          "base_uri": "https://localhost:8080/"
        },
        "id": "aKUwJsX3vUGm",
        "outputId": "07c6e615-0333-4de0-df39-faad92037788"
      },
      "execution_count": null,
      "outputs": [
        {
          "output_type": "stream",
          "name": "stdout",
          "text": [
            "Enter currency: PKR\n",
            "Enter amount: 1\n",
            "Enter currency you want to convert in: YEN\n",
            "0.5405405405405405 YEN\n"
          ]
        }
      ]
    },
    {
      "cell_type": "markdown",
      "source": [
        "Task 3\n",
        "Design an ATM machine that has 3 main features\n",
        "1) Deposit\n",
        "2) Withdraw\n",
        "3) Check balance\n",
        "Current balance is 5000, If the withdraw balance is equal or less than 5000 then cash out the desired withdraw amount. If it exceed from current balance then deliver a message that you dont have enough balance. When user select an option \"1\" then update the current balance. If user choose an option, \"3\" then show them their current balance"
      ],
      "metadata": {
        "id": "f3IEe2-L1XQO"
      }
    },
    {
      "cell_type": "code",
      "source": [
        "selector = input(\"Enter 1 to Deposit, 2 for withdraw and 3 to check balance: \")\n",
        "amount = 5000\n",
        "if selector == \"1\":\n",
        "  deposit = input(\"Enter deposit amount: \")\n",
        "  amount = amount\n",
        "  amount = int(deposit) + amount\n",
        "  print(\"Total: \"+ str(amount))\n",
        "elif selector == \"2\":\n",
        "  withdraw = input(\"Enter withdraw amount: \")\n",
        "  amount = amount - int(withdraw)\n",
        "  print(\"Balance is: \" + str(amount))\n",
        "\n",
        "elif selector == \"3\":\n",
        "  print(\"Balance is: \" + amount)\n"
      ],
      "metadata": {
        "colab": {
          "base_uri": "https://localhost:8080/"
        },
        "id": "CgNkfnqD1WX2",
        "outputId": "6e028135-66a8-4c64-dea7-3a6c971296a8"
      },
      "execution_count": null,
      "outputs": [
        {
          "output_type": "stream",
          "name": "stdout",
          "text": [
            "Enter 1 to Deposit, 2 for withdraw and 3 to check balance: 2\n",
            "Enter withdraw amount: 2000\n",
            "Balance is: 3000\n"
          ]
        }
      ]
    },
    {
      "cell_type": "markdown",
      "source": [
        "Task4: GameXone offering a new position in their software house, you are selected for an interview. The criteria for selecting your position either as a programmer or management person is that if you are having 4-5 years of experience in game development than you will be hired as a Developer otherwise they will shortlist your for management."
      ],
      "metadata": {
        "id": "MrQJwTWk-0KG"
      }
    },
    {
      "cell_type": "code",
      "source": [
        "experience =  input(\"Enter your experience in years: \")\n",
        "\n",
        "if int(experience) >= 4 and int(experience) <= 5:\n",
        "  print(\"You are selected as Developer in GameXone!!\")\n",
        "else:\n",
        "  print(\"You are shortlisted for management position!\")"
      ],
      "metadata": {
        "colab": {
          "base_uri": "https://localhost:8080/"
        },
        "id": "q1bEAzL3-6xM",
        "outputId": "dfc76e9c-3334-4f06-e607-fa32175c495c"
      },
      "execution_count": 7,
      "outputs": [
        {
          "output_type": "stream",
          "name": "stdout",
          "text": [
            "Enter your experience in years: 6\n",
            "You are shortlisted for management position!\n"
          ]
        }
      ]
    },
    {
      "cell_type": "markdown",
      "source": [
        "Task 5\n",
        "Design a career counseling system for students to select their field. You are requested to think like a counsellor who guide students to choose a career according to their interest and passion. If their hobbies , or\n",
        "interest is in arts, drawing , management , suggest them a field of Arts , if they are logical, having expertise and interest in programming , problem solving ,technologies than suggest to pursue their career in Engineering domain . If they showed their interest in bio , science , discipline and development of humanity than suggest them a medical field."
      ],
      "metadata": {
        "id": "Q_PQfleNALky"
      }
    },
    {
      "cell_type": "code",
      "source": [
        "class CareerCounselor:\n",
        "    def __init__(self):\n",
        "        self.interests = {\n",
        "            \"arts\": [\"art\", \"drawing\", \"management\"],\n",
        "            \"engineering\": [\"programming\", \"problem solving\", \"technologies\"],\n",
        "            \"medical\": [\"bio\", \"science\", \"humanity\"]\n",
        "        }\n",
        "\n",
        "    def recommend_career(self, interests):\n",
        "        recommended_career = []\n",
        "\n",
        "        for field, keywords in self.interests.items():\n",
        "            if any(keyword in interests for keyword in keywords):\n",
        "                recommended_career.append(field)\n",
        "\n",
        "        return recommended_career\n",
        "\n",
        "counselor = CareerCounselor()\n",
        "\n",
        "print(\"Welcome to Career Counseling System!\")\n",
        "print(\"Please enter your interests (comma-separated):\")\n",
        "user_interests = input().split(\", \")\n",
        "recommended_fields = counselor.recommend_career(user_interests)\n",
        "\n",
        "if recommended_fields:\n",
        "    print(\"Based on your interests, we recommend exploring the following fields:\")\n",
        "    for field in recommended_fields:\n",
        "        print(\"- \" + field.capitalize())\n",
        "else:\n",
        "    print(\"Sorry, we couldn't find a suitable career field based on your interests. Please try again.\")\n"
      ],
      "metadata": {
        "colab": {
          "base_uri": "https://localhost:8080/"
        },
        "id": "ZP8MhjtRATln",
        "outputId": "55513451-5307-4d7f-b61f-cdb79b134390"
      },
      "execution_count": 13,
      "outputs": [
        {
          "output_type": "stream",
          "name": "stdout",
          "text": [
            "Welcome to Career Counseling System!\n",
            "Please enter your interests (comma-separated):\n",
            "arts, drawing, management\n",
            "['arts', 'drawing', 'management']\n",
            "Based on your interests, we recommend exploring the following fields:\n",
            "- Arts\n"
          ]
        }
      ]
    },
    {
      "cell_type": "markdown",
      "source": [
        "Task 6\n",
        "You are tasked with creating a simple program to detect whether an individual might be positive or negative for COVID-19 based on reported symptoms. The program should take user input for three symptoms: fever,\n",
        "persistent cough, and shortness of breath. Your goal is to use conditional statements to analyze the symptoms and provide a prediction.\n",
        "Scenarios for User Input:\n",
        "Negative Case:\n",
        "User reports: No fever, no persistent cough, no shortness of breath.\n",
        "Positive Case:\n",
        "User reports: Fever, and either persistent cough or shortness of breath (or both).\n",
        "Instructions:\n",
        "Ask the user to input whether they have a fever (yes/no).\n",
        "Ask the user to input whether they have a persistent cough (yes/no).\n",
        "Ask the user to input whether they experience shortness of breath (yes/no)."
      ],
      "metadata": {
        "id": "_0D7mixNE7M6"
      }
    },
    {
      "cell_type": "code",
      "source": [
        "fever = input(\"Do you have a fever? (yes/no): \").lower()\n",
        "cough = input(\"Do you have a persistent cough? (yes/no): \").lower()\n",
        "breathlessness = input(\"Do you experience shortness of breath? (yes/no): \").lower()\n",
        "\n",
        "if fever == 'yes' and (cough == 'yes' or breathlessness == 'yes'):\n",
        "  print(\"Based on your reported symptoms, you might be positive for COVID-19. Please consider consulting a healthcare professional for further evaluation and testing.\")\n",
        "else:\n",
        "  print(\"Based on your reported symptoms, it is unlikely that you have COVID-19. However, please continue to monitor your health and seek medical advice if symptoms worsen.\")"
      ],
      "metadata": {
        "colab": {
          "base_uri": "https://localhost:8080/"
        },
        "id": "1NZPkWRXE6ey",
        "outputId": "35128407-04a6-4a23-ee17-cd0dc9757cb0"
      },
      "execution_count": 14,
      "outputs": [
        {
          "output_type": "stream",
          "name": "stdout",
          "text": [
            "Do you have a fever? (yes/no): yes\n",
            "Do you have a persistent cough? (yes/no): yes\n",
            "Do you experience shortness of breath? (yes/no): no\n",
            "Based on your reported symptoms, you might be positive for COVID-19. Please consider consulting a healthcare professional for further evaluation and testing.\n"
          ]
        }
      ]
    }
  ]
}