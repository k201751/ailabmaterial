{
  "nbformat": 4,
  "nbformat_minor": 0,
  "metadata": {
    "colab": {
      "provenance": []
    },
    "kernelspec": {
      "name": "python3",
      "display_name": "Python 3"
    },
    "language_info": {
      "name": "python"
    }
  },
  "cells": [
    {
      "cell_type": "markdown",
      "source": [
        "Task#01: Simple Reflex Agents\n",
        "Consider an interactive and cognitive environment (ICE) in which a smart camera is monitoring robot movement from one location to another. Let a robot be at location A for some time instant and then moves to point B and eventually reaches at point C and so on and so forth shown in the Fig. Develop a Python code to calculate a distance between reference point R (4, 0) of a camera and A, B, and C and N number of locations."
      ],
      "metadata": {
        "id": "xb4pcyMqW_VU"
      }
    },
    {
      "cell_type": "code",
      "execution_count": null,
      "metadata": {
        "id": "0q1gFIOVqK2k",
        "colab": {
          "base_uri": "https://localhost:8080/"
        },
        "outputId": "cb11f843-f661-4fe7-8856-d2f5868f1d68"
      },
      "outputs": [
        {
          "output_type": "stream",
          "name": "stdout",
          "text": [
            "Distance from Camera R to Robot A: 4.47213595499958\n",
            "Distance from Camera R to Robot B: 5.0990195135927845\n",
            "Distance from Camera R to Robot C: 7.280109889280518\n",
            "Distance from Camera R to Robot N: 7.0710678118654755\n"
          ]
        }
      ],
      "source": [
        "import math\n",
        "\n",
        "class Coordinate:\n",
        "    def __init__(self, x, y):\n",
        "        self.x = x\n",
        "        self.y = y\n",
        "\n",
        "class Robot:\n",
        "    def __init__(self, coordinate):\n",
        "        self.coordinate = coordinate\n",
        "\n",
        "def calculate_distance(coordinate1, coordinate2):\n",
        "    return math.sqrt((coordinate1.x - coordinate2.x) ** 2 + (coordinate1.y - coordinate2.y) ** 2)\n",
        "\n",
        "camera_R = Coordinate(4, 0)\n",
        "robot_A = Robot(Coordinate(6, 4))\n",
        "robot_B = Robot(Coordinate(5, 5))\n",
        "robot_C = Robot(Coordinate(6, 7))\n",
        "robot_N = Robot(Coordinate(9, 5))\n",
        "\n",
        "def print_distance_from_R(robot, name):\n",
        "    distance = calculate_distance(camera_R, robot.coordinate)\n",
        "    print(f\"Distance from Camera R to {name}: {distance}\")\n",
        "\n",
        "print_distance_from_R(robot_A, 'Robot A')\n",
        "print_distance_from_R(robot_B, 'Robot B')\n",
        "print_distance_from_R(robot_C, 'Robot C')\n",
        "print_distance_from_R(robot_N, 'Robot N')\n"
      ]
    },
    {
      "cell_type": "markdown",
      "source": [
        "Task#02: Simple Reflex Agents\n",
        "Consider a scenario, cameras placed on every side of the car — front, rear, left and right — to stitch together a 360-degree view of the environment. For a three-lane road a car is moving on a middle lane, consider the below scenario\n",
        " If the front camera detects the object within range of 8 meters breaks are applied\n",
        "automatically.\n",
        " If the left camera detects the object within range of 2 meters car moves to the right lane.\n",
        " If the right camera detects the object within range of 2 meters car moves to the left lane.\n",
        " For parking the car if the rear camera detects the object within 5 cm breaks are applied."
      ],
      "metadata": {
        "id": "dTfw2e6UW39F"
      }
    },
    {
      "cell_type": "code",
      "source": [
        "class Vehicle:\n",
        "    def __init__(self, position, lane, cameras):\n",
        "        self.position = position\n",
        "        self.lane = lane\n",
        "        self.cameras = cameras\n",
        "\n",
        "    def react_to_environment(self, object_position, object_distance):\n",
        "        if self.cameras['front'].detect_object(object_distance):\n",
        "            print(\"Object detected by the front camera. Applying brakes.\")\n",
        "        if self.cameras['rear'].detect_object(object_distance):\n",
        "            print(\"Object detected by the rear camera. Applying brakes.\")\n",
        "        if self.lane == \"middle\":\n",
        "            if object_position < self.position:\n",
        "                print(\"Object detected to the left. Change to the right lane.\")\n",
        "            elif object_position > self.position:\n",
        "                print(\"Object detected to the right. Change to the left lane.\")\n",
        "\n",
        "class Camera:\n",
        "    def __init__(self, position, range):\n",
        "        self.position = position\n",
        "        self.range = range\n",
        "\n",
        "    def detect_object(self, object_distance):\n",
        "        return object_distance <= self.range\n",
        "\n",
        "front_camera = Camera(0, 8)\n",
        "rear_camera = Camera(0, 5)\n",
        "\n",
        "car = Vehicle(0, \"middle\", {'front': front_camera, 'rear': rear_camera})\n",
        "object_position = -15\n",
        "object_distance = 200\n",
        "car.react_to_environment(object_position, object_distance)"
      ],
      "metadata": {
        "id": "bEHKH7aQTYsa",
        "colab": {
          "base_uri": "https://localhost:8080/"
        },
        "outputId": "f8b5919b-065b-46c9-f846-04c35a59fba8"
      },
      "execution_count": 17,
      "outputs": [
        {
          "output_type": "stream",
          "name": "stdout",
          "text": [
            "Object detected to the left. Change to the right lane.\n"
          ]
        }
      ]
    },
    {
      "cell_type": "markdown",
      "source": [
        "Task#03: Simple Reflex Agents. Consider the following scenario where the UAV receives temperature data from the installed sensors in a residential area. Assume that there are nine sensors installed that are measuring temperature in centigrade. Develop a Python code to calculate the average temperature in F"
      ],
      "metadata": {
        "id": "GOD_JrpiWaZu"
      }
    },
    {
      "cell_type": "code",
      "source": [
        "class Sensor:\n",
        "    def __init__(self, location, temperature):\n",
        "        self.location = location\n",
        "        self.temperature = temperature\n",
        "\n",
        "class UAV:\n",
        "    def __init__(self, sensors):\n",
        "        self.sensors = sensors\n",
        "\n",
        "    def calculate_average_temperature(self):\n",
        "        total_temperature = sum(sensor.temperature for sensor in self.sensors)\n",
        "        average_temperature = total_temperature / len(self.sensors)\n",
        "        return average_temperature\n",
        "\n",
        "sensor1 = Sensor(location=\"Sensor 1\", temperature=25)\n",
        "sensor2 = Sensor(location=\"Sensor 2\", temperature=26)\n",
        "sensor3 = Sensor(location=\"Sensor 3\", temperature=24)\n",
        "sensor4 = Sensor(location=\"Sensor 4\", temperature=25)\n",
        "sensor5 = Sensor(location=\"Sensor 5\", temperature=26)\n",
        "sensor6 = Sensor(location=\"Sensor 6\", temperature=27)\n",
        "sensor7 = Sensor(location=\"Sensor 7\", temperature=28)\n",
        "sensor8 = Sensor(location=\"Sensor 8\", temperature=29)\n",
        "sensor9 = Sensor(location=\"Sensor 9\", temperature=30)\n",
        "\n",
        "uav = UAV(sensors=[sensor1, sensor2, sensor3, sensor4, sensor5, sensor6, sensor7, sensor8, sensor9])\n",
        "average_temp = uav.calculate_average_temperature()\n",
        "average_temp_fahrenheit = (average_temp * 9/5) + 32\n",
        "print(\"Average Temperature:\", average_temp_fahrenheit, \"°F\")\n"
      ],
      "metadata": {
        "colab": {
          "base_uri": "https://localhost:8080/"
        },
        "id": "WlwLqoUDV5iw",
        "outputId": "e4531644-caee-4f31-fdb3-78827f0af132"
      },
      "execution_count": 18,
      "outputs": [
        {
          "output_type": "stream",
          "name": "stdout",
          "text": [
            "Average Temperature: 80.0 °F\n"
          ]
        }
      ]
    },
    {
      "cell_type": "markdown",
      "source": [
        "Task#04: Learning Agent\n",
        "Any agent, model, utility or goal-based agent can be transformed into learning agent. Few examples are snake game, Pac man, Self-driving cars, Ad recommendation system. Read the below article and write few sentences that how you can transform task 04, 05 and 06 into learning agent (NO code necessary just reason).\n",
        "https://vitalflux.com/reinforcement-learning-real-world-examples\n",
        "\n",
        "Answer:\n",
        "1. R Agent: The camera agent gets points for telling the exact location and loses points for giving the wrong one.\n",
        "\n",
        "2. Camera Agent: When the car has sensors, it can drive better. Instead of following set rules, it learns from rewards and punishments. For example, it learns to brake or switch lanes based on how good or bad the outcomes are.\n",
        "\n",
        "3. UAV and Temperature Sensors: If the UAV's sensors get the temperature right, it gets a thumbs-up. If they're wrong, it gets a slap on  the wrist."
      ],
      "metadata": {
        "id": "pISkzNFOXSwj"
      }
    }
  ]
}