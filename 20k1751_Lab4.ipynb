{
  "nbformat": 4,
  "nbformat_minor": 0,
  "metadata": {
    "colab": {
      "provenance": []
    },
    "kernelspec": {
      "name": "python3",
      "display_name": "Python 3"
    },
    "language_info": {
      "name": "python"
    }
  },
  "cells": [
    {
      "cell_type": "markdown",
      "source": [
        "Task# 01:\n",
        "Traveling Salesman Problem:\n",
        "Given a set of cities and distances between every pair of cities, the problem is to find the shortest possible route that visits every city exactly once and returns to the starting point. Like any problem, which can be optimized, there must be a cost function. In the context of TSP, total distance traveled must be reduced as much as possible. Consider the below matrix representing the distances (Cost) between the cities. Find theshortest possible route that visits every city exactly once and returns to the starting point."
      ],
      "metadata": {
        "id": "oyvo8waBR0LS"
      }
    },
    {
      "cell_type": "code",
      "source": [
        "# Define the distances between cities\n",
        "distances = {\n",
        "    ('A', 'B'): 20,\n",
        "    ('A', 'D'): 35,\n",
        "    ('A', 'C'): 42,\n",
        "    ('B', 'D'): 34,\n",
        "    ('B', 'C'): 30,\n",
        "    ('C', 'D'): 12,\n",
        "}\n",
        "\n",
        "# Define a function to generate all permutations recursively\n",
        "def generate_permutations(cities, path=[]):\n",
        "    if len(path) == len(cities):\n",
        "        yield path\n",
        "    else:\n",
        "        for city in cities:\n",
        "            if city not in path:\n",
        "                yield from generate_permutations(cities, path + [city])\n",
        "\n",
        "# Initialize variables to store the shortest route and its distance\n",
        "shortest_route = None\n",
        "min_distance = float('inf')\n",
        "\n",
        "# Generate all possible permutations of visiting the cities\n",
        "for perm in generate_permutations(['A', 'B', 'C', 'D']):\n",
        "    distance = 0\n",
        "    for i in range(len(perm)):\n",
        "        if i < len(perm) - 1:\n",
        "            edge = (perm[i], perm[i+1])\n",
        "            distance += distances.get(edge, distances.get((perm[i+1], perm[i])))  # Considering undirected graph\n",
        "        else:\n",
        "            distance += distances.get((perm[-1], perm[0]), distances.get((perm[0], perm[-1])))  # Considering undirected graph\n",
        "    # Update shortest route if found a shorter one\n",
        "    if distance < min_distance:\n",
        "        min_distance = distance\n",
        "        shortest_route = perm\n",
        "\n",
        "# Output the shortest route and its distance\n",
        "print(\"Shortest Route:\", shortest_route)\n",
        "print(\"Distance:\", min_distance)\n"
      ],
      "metadata": {
        "colab": {
          "base_uri": "https://localhost:8080/"
        },
        "id": "0Asq-cpdWXEj",
        "outputId": "d74e7fb9-46eb-4abc-ce20-c9a2250b5187"
      },
      "execution_count": null,
      "outputs": [
        {
          "output_type": "stream",
          "name": "stdout",
          "text": [
            "Shortest Route: ['A', 'B', 'C', 'D']\n",
            "Distance: 97\n"
          ]
        }
      ]
    },
    {
      "cell_type": "markdown",
      "source": [
        "Implement DFS on graph and tree."
      ],
      "metadata": {
        "id": "b9KuvfAxOpil"
      }
    },
    {
      "cell_type": "code",
      "source": [
        "def dfs(visited, graph, node):\n",
        "    visited.append(node)\n",
        "    stack = [node]\n",
        "    frontier = [node]\n",
        "\n",
        "    while stack:\n",
        "        m = stack.pop()\n",
        "        print(m, end=\" \")\n",
        "\n",
        "        for neighbor in graph[m]:\n",
        "            if neighbor not in visited and neighbor not in frontier:\n",
        "                visited.append(neighbor)\n",
        "                stack.append(neighbor)\n",
        "                frontier.append(neighbor)\n",
        "\n",
        "# DFS on a Graph\n",
        "graph = {\n",
        "    '1': ['2', '3'],\n",
        "    '2': ['4'],\n",
        "    '3': ['5', '6'],\n",
        "    '4': [],\n",
        "    '5': ['7'],\n",
        "    '6': [],\n",
        "    '7': []\n",
        "}\n",
        "\n",
        "visited = []\n",
        "print(\"Following is the Depth-First Search on the graph:\")\n",
        "dfs(visited, graph, '1')\n",
        "\n",
        "# DFS on a Tree\n",
        "tree = {\n",
        "    'A': ['B', 'C'],\n",
        "    'B': ['D', 'E'],\n",
        "    'C': ['F', 'G'],\n",
        "    'D': [],\n",
        "    'E': [],\n",
        "    'F': [],\n",
        "    'G': []\n",
        "}\n",
        "\n",
        "visited = []\n",
        "print(\"\\n\\nFollowing is the Depth-First Search on the tree:\")\n",
        "dfs(visited, tree, 'A')\n"
      ],
      "metadata": {
        "colab": {
          "base_uri": "https://localhost:8080/"
        },
        "id": "TcAJ2so5OndA",
        "outputId": "3a6a0ea8-cc66-4a40-8ffb-56c8e31bc3cc"
      },
      "execution_count": null,
      "outputs": [
        {
          "output_type": "stream",
          "name": "stdout",
          "text": [
            "Following is the Depth-First Search on the graph:\n",
            "1 3 6 5 7 2 4 \n",
            "\n",
            "Following is the Depth-First Search on the tree:\n",
            "A C G F B E D "
          ]
        }
      ]
    },
    {
      "cell_type": "markdown",
      "source": [],
      "metadata": {
        "id": "e889ibkwXo5x"
      }
    },
    {
      "cell_type": "code",
      "source": [
        "from collections import deque\n",
        "\n",
        "# Define the goal state\n",
        "goal_state = [[1, 2, 3], [4, 5, 6], [7, 8, 0]]\n",
        "\n",
        "# Function to check if a state is the goal state\n",
        "def is_goal_state(state):\n",
        "    return state == goal_state\n",
        "\n",
        "# Function to find the blank tile in the current state\n",
        "def find_blank_tile(state):\n",
        "    for i in range(3):\n",
        "        for j in range(3):\n",
        "            if state[i][j] == 0:\n",
        "                return i, j\n",
        "\n",
        "# Function to generate possible next states from the current state\n",
        "def generate_next_states(state):\n",
        "    next_states = []\n",
        "    blank_i, blank_j = find_blank_tile(state)\n",
        "    for di, dj in [(0, 1), (0, -1), (1, 0), (-1, 0)]:\n",
        "        new_i, new_j = blank_i + di, blank_j + dj\n",
        "        if 0 <= new_i < 3 and 0 <= new_j < 3:\n",
        "            new_state = [row[:] for row in state]\n",
        "            new_state[blank_i][blank_j], new_state[new_i][new_j] = new_state[new_i][new_j], new_state[blank_i][blank_j]\n",
        "            next_states.append(new_state)\n",
        "    return next_states\n",
        "\n",
        "# Depth-First Search (DFS) Algorithm\n",
        "def dfs(start_state):\n",
        "    stack = [(start_state, [])]\n",
        "    visited = set()\n",
        "    while stack:\n",
        "        state, path = stack.pop()\n",
        "        if is_goal_state(state):\n",
        "            return path\n",
        "        if tuple(map(tuple, state)) in visited:\n",
        "            continue\n",
        "        visited.add(tuple(map(tuple, state)))\n",
        "        next_states = generate_next_states(state)\n",
        "        for next_state in next_states:\n",
        "            stack.append((next_state, path + [next_state]))\n",
        "\n",
        "# Breadth-First Search (BFS) Algorithm\n",
        "def bfs(start_state):\n",
        "    queue = deque([(start_state, [])])\n",
        "    visited = set()\n",
        "    while queue:\n",
        "        state, path = queue.popleft()\n",
        "        if is_goal_state(state):\n",
        "            return path\n",
        "        if tuple(map(tuple, state)) in visited:\n",
        "            continue\n",
        "        visited.add(tuple(map(tuple, state)))\n",
        "        next_states = generate_next_states(state)\n",
        "        for next_state in next_states:\n",
        "            queue.append((next_state, path + [next_state]))\n",
        "\n",
        "# Example usage\n",
        "start_state = [[1, 2, 3], [5, 6, 0], [7, 8, 4]]\n",
        "print(\"Initial State:\")\n",
        "for row in start_state:\n",
        "    print(row)\n",
        "print(\"\\nDFS Solution Path:\")\n",
        "dfs_path = dfs(start_state)\n",
        "for state in dfs_path:\n",
        "    print(state)\n",
        "print(\"\\nBFS Solution Path:\")\n",
        "bfs_path = bfs(start_state)\n",
        "for state in bfs_path:\n",
        "    print(state)\n"
      ],
      "metadata": {
        "colab": {
          "base_uri": "https://localhost:8080/"
        },
        "id": "Tsb5_PfTXodU",
        "outputId": "6fc3863e-9313-46c4-fabf-385d3f32834f"
      },
      "execution_count": null,
      "outputs": [
        {
          "output_type": "stream",
          "name": "stdout",
          "text": [
            "Initial State:\n",
            "[1, 2, 3]\n",
            "[5, 6, 0]\n",
            "[7, 8, 4]\n",
            "\n",
            "DFS Solution Path:\n"
          ]
        }
      ]
    }
  ]
}